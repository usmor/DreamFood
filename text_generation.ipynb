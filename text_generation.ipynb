{
  "nbformat": 4,
  "nbformat_minor": 0,
  "metadata": {
    "colab": {
      "provenance": []
    },
    "kernelspec": {
      "name": "python3",
      "display_name": "Python 3"
    },
    "language_info": {
      "name": "python"
    }
  },
  "cells": [
    {
      "cell_type": "code",
      "source": [
        "!pip install torch transformers"
      ],
      "metadata": {
        "id": "XwjC6eyEsHSo"
      },
      "execution_count": null,
      "outputs": []
    },
    {
      "cell_type": "code",
      "source": [
        "from transformers import pipeline"
      ],
      "metadata": {
        "id": "g38LSDf8svc-"
      },
      "execution_count": null,
      "outputs": []
    },
    {
      "cell_type": "code",
      "source": [
        "import pandas as pd"
      ],
      "metadata": {
        "id": "1RzXfA9AtP8c"
      },
      "execution_count": 1,
      "outputs": []
    },
    {
      "cell_type": "code",
      "source": [
        "df = pd.read_csv('my_recipes_data.csv')"
      ],
      "metadata": {
        "id": "P0L2Rd-htp6O"
      },
      "execution_count": null,
      "outputs": []
    },
    {
      "cell_type": "code",
      "source": [
        "recipes = df['recipe'].tolist()"
      ],
      "metadata": {
        "id": "m7P9L_r4tN4Y"
      },
      "execution_count": null,
      "outputs": []
    },
    {
      "cell_type": "code",
      "source": [
        "import re"
      ],
      "metadata": {
        "id": "n0ow4DRewLiH"
      },
      "execution_count": null,
      "outputs": []
    },
    {
      "cell_type": "code",
      "source": [
        "import random"
      ],
      "metadata": {
        "id": "EblGaGaHxLDm"
      },
      "execution_count": null,
      "outputs": []
    },
    {
      "cell_type": "markdown",
      "source": [
        "Есть 500 начальных предложений. Генерируем к ним продолжение. При этом записываем в словарь еще и настоящие предложения из датафрейма, следующие за исходными."
      ],
      "metadata": {
        "id": "UZZdrBTrdwbd"
      }
    },
    {
      "cell_type": "code",
      "source": [
        "recipes = [re.sub(r'\\d+\\.', '', str(text)) for text in recipes]\n",
        "recipes = [text.replace('\\n',' ').replace('\\t',' ') for text in recipes]\n",
        "recipes = random.sample(recipes, 1000)"
      ],
      "metadata": {
        "id": "-tmciHyawGuU"
      },
      "execution_count": null,
      "outputs": []
    },
    {
      "cell_type": "code",
      "source": [
        "import regex"
      ],
      "metadata": {
        "id": "G8tZm6_gzj8j"
      },
      "execution_count": null,
      "outputs": []
    },
    {
      "cell_type": "code",
      "source": [
        "recipes = [regex.split(r'(?<=[.!?])\\s+(?=\\p{Lu})', text) for text in recipes]\n",
        "recipes"
      ],
      "metadata": {
        "id": "JWxljOcPwjlf"
      },
      "execution_count": null,
      "outputs": []
    },
    {
      "cell_type": "code",
      "source": [
        "data = dict()"
      ],
      "metadata": {
        "id": "vwIoDPE841th"
      },
      "execution_count": null,
      "outputs": []
    },
    {
      "cell_type": "code",
      "source": [
        "for recipe in recipes:\n",
        "    if len(list(data.keys())) < 500:\n",
        "        if len(recipe) > 2:\n",
        "            index = random.randint(0, len(recipe)-2)\n",
        "            data[recipe[index]] = [recipe[index+1], None]\n",
        "data"
      ],
      "metadata": {
        "id": "lmmDZm4Izrs6"
      },
      "execution_count": null,
      "outputs": []
    },
    {
      "cell_type": "code",
      "source": [
        "len(data.keys())"
      ],
      "metadata": {
        "colab": {
          "base_uri": "https://localhost:8080/"
        },
        "id": "u95vRolZ2qVI",
        "outputId": "35465e17-fd2a-4123-bbcd-f9d8a2943b23"
      },
      "execution_count": null,
      "outputs": [
        {
          "output_type": "execute_result",
          "data": {
            "text/plain": [
              "500"
            ]
          },
          "metadata": {},
          "execution_count": 28
        }
      ]
    },
    {
      "cell_type": "code",
      "source": [
        "from tqdm import tqdm"
      ],
      "metadata": {
        "id": "mrPvdE111Pgz"
      },
      "execution_count": null,
      "outputs": []
    },
    {
      "cell_type": "code",
      "source": [
        "initial_prompts = list(data.keys())\n",
        "initial_prompts"
      ],
      "metadata": {
        "id": "89XwWSp91eXB"
      },
      "execution_count": null,
      "outputs": []
    },
    {
      "cell_type": "code",
      "source": [
        "generator = pipeline('text-generation', model=\"sberbank-ai/rugpt3large_based_on_gpt2\" )"
      ],
      "metadata": {
        "colab": {
          "base_uri": "https://localhost:8080/"
        },
        "id": "Q5PvMUTg3Nyr",
        "outputId": "0bb50881-a3e5-41bb-8512-137940e47b8c"
      },
      "execution_count": null,
      "outputs": [
        {
          "output_type": "stream",
          "name": "stderr",
          "text": [
            "/usr/local/lib/python3.10/dist-packages/huggingface_hub/utils/_token.py:88: UserWarning: \n",
            "The secret `HF_TOKEN` does not exist in your Colab secrets.\n",
            "To authenticate with the Hugging Face Hub, create a token in your settings tab (https://huggingface.co/settings/tokens), set it as secret in your Google Colab and restart your session.\n",
            "You will be able to reuse this secret in all of your notebooks.\n",
            "Please note that authentication is recommended but still optional to access public models or datasets.\n",
            "  warnings.warn(\n"
          ]
        }
      ]
    },
    {
      "cell_type": "code",
      "source": [
        "for p in tqdm(range(100)):\n",
        "    generated_text = generator(initial_prompts[p], max_new_tokens=25, num_return_sequences=1)\n",
        "    data[initial_prompts[p]][1] = generated_text[0]['generated_text']"
      ],
      "metadata": {
        "colab": {
          "base_uri": "https://localhost:8080/"
        },
        "id": "6VDZ1aJIsWGA",
        "outputId": "63702119-0d93-48f2-871b-2e12cd0b8e3a"
      },
      "execution_count": null,
      "outputs": [
        {
          "output_type": "stream",
          "name": "stderr",
          "text": [
            "100%|██████████| 100/100 [15:13<00:00,  9.13s/it]\n"
          ]
        }
      ]
    },
    {
      "cell_type": "code",
      "source": [
        "for p in tqdm(range(100, 200)):\n",
        "    generated_text = generator(initial_prompts[p], max_new_tokens=25, num_return_sequences=1)\n",
        "    data[initial_prompts[p]][1] = generated_text[0]['generated_text']"
      ],
      "metadata": {
        "colab": {
          "base_uri": "https://localhost:8080/"
        },
        "id": "DSa4Pb3h_SjF",
        "outputId": "8b1af274-eb29-477f-9088-9c4211baec6f"
      },
      "execution_count": null,
      "outputs": [
        {
          "output_type": "stream",
          "name": "stderr",
          "text": [
            "100%|██████████| 100/100 [14:36<00:00,  8.77s/it]\n"
          ]
        }
      ]
    },
    {
      "cell_type": "code",
      "source": [
        "for p in tqdm(range(201, 300)):\n",
        "    generated_text = generator(initial_prompts[p], max_new_tokens=25, num_return_sequences=1)\n",
        "    data[initial_prompts[p]][1] = generated_text[0]['generated_text']"
      ],
      "metadata": {
        "colab": {
          "base_uri": "https://localhost:8080/"
        },
        "id": "EoKBf_WyEA7D",
        "outputId": "beba63be-2898-4b7f-8710-d559f22c280e"
      },
      "execution_count": null,
      "outputs": [
        {
          "output_type": "stream",
          "name": "stderr",
          "text": [
            "100%|██████████| 99/99 [14:45<00:00,  8.95s/it]\n"
          ]
        }
      ]
    },
    {
      "cell_type": "code",
      "source": [
        "for p in tqdm(range(301, 400)):\n",
        "    generated_text = generator(initial_prompts[p], max_new_tokens=25, num_return_sequences=1)\n",
        "    data[initial_prompts[p]][1] = generated_text[0]['generated_text']"
      ],
      "metadata": {
        "colab": {
          "base_uri": "https://localhost:8080/"
        },
        "id": "FJRzdIkLH6O1",
        "outputId": "6415d922-e591-4815-8e34-a8f2276c18a4"
      },
      "execution_count": null,
      "outputs": [
        {
          "output_type": "stream",
          "name": "stderr",
          "text": [
            "100%|██████████| 99/99 [14:22<00:00,  8.72s/it]\n"
          ]
        }
      ]
    },
    {
      "cell_type": "code",
      "source": [
        "generated_text = generator(initial_prompts[300], max_new_tokens=25, num_return_sequences=1)\n",
        "data[initial_prompts[300]][1] = generated_text[0]['generated_text']"
      ],
      "metadata": {
        "id": "kBa6l5TeMjuk"
      },
      "execution_count": null,
      "outputs": []
    },
    {
      "cell_type": "code",
      "source": [
        "generated_text = generator(initial_prompts[400], max_new_tokens=25, num_return_sequences=1)\n",
        "data[initial_prompts[400]][1] = generated_text[0]['generated_text']"
      ],
      "metadata": {
        "id": "Cpt1dopjMySV"
      },
      "execution_count": null,
      "outputs": []
    },
    {
      "cell_type": "code",
      "source": [
        "for p in tqdm(range(401, len(initial_prompts))):\n",
        "    generated_text = generator(initial_prompts[p], max_new_tokens=25, num_return_sequences=1)\n",
        "    data[initial_prompts[p]][1] = generated_text[0]['generated_text']"
      ],
      "metadata": {
        "colab": {
          "base_uri": "https://localhost:8080/"
        },
        "id": "HM1wKoE6NPCH",
        "outputId": "c54b6651-418c-49e6-fc5a-98f270ef530f"
      },
      "execution_count": null,
      "outputs": [
        {
          "output_type": "stream",
          "name": "stderr",
          "text": [
            "100%|██████████| 99/99 [15:37<00:00,  9.47s/it]\n"
          ]
        }
      ]
    },
    {
      "cell_type": "code",
      "source": [
        "generated_text = generator(initial_prompts[200], max_new_tokens=25, num_return_sequences=1)\n",
        "data[initial_prompts[200]][1] = generated_text[0]['generated_text']"
      ],
      "metadata": {
        "id": "UxGbH1znSydN"
      },
      "execution_count": null,
      "outputs": []
    },
    {
      "cell_type": "markdown",
      "source": [
        "Получаем датафрейм, где первый столбец -- это исконная фраза, второй -- следующая за ним фраза, третий -- сгенерированный на основании исконной фразы текст."
      ],
      "metadata": {
        "id": "dLizza-ueIOp"
      }
    },
    {
      "cell_type": "code",
      "source": [
        "df_new = pd.DataFrame(list(data.items()), columns=['initial sentence', 'value'])\n",
        "df_new[['true sentence', 'generated text']] = pd.DataFrame(df_new['value'].tolist())\n",
        "del df_new['value']\n",
        "df_new"
      ],
      "metadata": {
        "colab": {
          "base_uri": "https://localhost:8080/",
          "height": 701
        },
        "id": "VRbYkeRl_3Yo",
        "outputId": "1a92d610-daea-425e-f9a8-206318a38238"
      },
      "execution_count": null,
      "outputs": [
        {
          "output_type": "execute_result",
          "data": {
            "text/plain": [
              "                                      initial sentence  \\\n",
              "0    Берем любую глубокую посуду и начинаем выклады...   \n",
              "1     В глубокой миске соедините два вида фарша, пе...   \n",
              "2                                Чуть отжимаем руками.   \n",
              "3    Обжариваем ребрышки до золотистого цвета на ра...   \n",
              "4    Я обычно ставлю недалеко от плиты, поэтому пол...   \n",
              "..                                                 ...   \n",
              "495  Чтобы всё получилось без сюрпризов, рекомендую...   \n",
              "496                        Добавьте нарезанные огурцы.   \n",
              "497  На каждой половинке у кочерыжки сделайте небол...   \n",
              "498  А затем подаем мясо вместе с овощами, полив ос...   \n",
              "499  В глубокую посуду влить теплое молоко и развес...   \n",
              "\n",
              "                                         true sentence  \\\n",
              "0    Так чтобы самым последним оказался сахарный слой.   \n",
              "1        Сформируйте из фарша шарики среднего размера.   \n",
              "2    Теперь поместим огурец в соусницу, добавим спе...   \n",
              "3                    Присыпаем готовое блюдо кунжутом.   \n",
              "4    Готовую капусту уберите в прохладное место для...   \n",
              "..                                                 ...   \n",
              "495                Или же смажьте растительным маслом.   \n",
              "496                                   Нарежьте зелень.   \n",
              "497  Тщательно промойте каждый лист пекинской капус...   \n",
              "498                                         Вот и все!   \n",
              "499  Хорошо размешать, накрыть и поставить в теплое...   \n",
              "\n",
              "                                        generated text  \n",
              "0    Берем любую глубокую посуду и начинаем выклады...  \n",
              "1     В глубокой миске соедините два вида фарша, пе...  \n",
              "2    Чуть отжимаем руками.\\n\\nНачинаем сгибать руки...  \n",
              "3    Обжариваем ребрышки до золотистого цвета на ра...  \n",
              "4    Я обычно ставлю недалеко от плиты, поэтому пол...  \n",
              "..                                                 ...  \n",
              "495  Чтобы всё получилось без сюрпризов, рекомендую...  \n",
              "496  Добавьте нарезанные огурцы.\\n\\nСалат из огурцо...  \n",
              "497  На каждой половинке у кочерыжки сделайте небол...  \n",
              "498  А затем подаем мясо вместе с овощами, полив ос...  \n",
              "499  В глубокую посуду влить теплое молоко и развес...  \n",
              "\n",
              "[500 rows x 3 columns]"
            ],
            "text/html": [
              "\n",
              "  <div id=\"df-cf3e208d-5921-475b-8f3e-be8fe990cf08\" class=\"colab-df-container\">\n",
              "    <div>\n",
              "<style scoped>\n",
              "    .dataframe tbody tr th:only-of-type {\n",
              "        vertical-align: middle;\n",
              "    }\n",
              "\n",
              "    .dataframe tbody tr th {\n",
              "        vertical-align: top;\n",
              "    }\n",
              "\n",
              "    .dataframe thead th {\n",
              "        text-align: right;\n",
              "    }\n",
              "</style>\n",
              "<table border=\"1\" class=\"dataframe\">\n",
              "  <thead>\n",
              "    <tr style=\"text-align: right;\">\n",
              "      <th></th>\n",
              "      <th>initial sentence</th>\n",
              "      <th>true sentence</th>\n",
              "      <th>generated text</th>\n",
              "    </tr>\n",
              "  </thead>\n",
              "  <tbody>\n",
              "    <tr>\n",
              "      <th>0</th>\n",
              "      <td>Берем любую глубокую посуду и начинаем выклады...</td>\n",
              "      <td>Так чтобы самым последним оказался сахарный слой.</td>\n",
              "      <td>Берем любую глубокую посуду и начинаем выклады...</td>\n",
              "    </tr>\n",
              "    <tr>\n",
              "      <th>1</th>\n",
              "      <td>В глубокой миске соедините два вида фарша, пе...</td>\n",
              "      <td>Сформируйте из фарша шарики среднего размера.</td>\n",
              "      <td>В глубокой миске соедините два вида фарша, пе...</td>\n",
              "    </tr>\n",
              "    <tr>\n",
              "      <th>2</th>\n",
              "      <td>Чуть отжимаем руками.</td>\n",
              "      <td>Теперь поместим огурец в соусницу, добавим спе...</td>\n",
              "      <td>Чуть отжимаем руками.\\n\\nНачинаем сгибать руки...</td>\n",
              "    </tr>\n",
              "    <tr>\n",
              "      <th>3</th>\n",
              "      <td>Обжариваем ребрышки до золотистого цвета на ра...</td>\n",
              "      <td>Присыпаем готовое блюдо кунжутом.</td>\n",
              "      <td>Обжариваем ребрышки до золотистого цвета на ра...</td>\n",
              "    </tr>\n",
              "    <tr>\n",
              "      <th>4</th>\n",
              "      <td>Я обычно ставлю недалеко от плиты, поэтому пол...</td>\n",
              "      <td>Готовую капусту уберите в прохладное место для...</td>\n",
              "      <td>Я обычно ставлю недалеко от плиты, поэтому пол...</td>\n",
              "    </tr>\n",
              "    <tr>\n",
              "      <th>...</th>\n",
              "      <td>...</td>\n",
              "      <td>...</td>\n",
              "      <td>...</td>\n",
              "    </tr>\n",
              "    <tr>\n",
              "      <th>495</th>\n",
              "      <td>Чтобы всё получилось без сюрпризов, рекомендую...</td>\n",
              "      <td>Или же смажьте растительным маслом.</td>\n",
              "      <td>Чтобы всё получилось без сюрпризов, рекомендую...</td>\n",
              "    </tr>\n",
              "    <tr>\n",
              "      <th>496</th>\n",
              "      <td>Добавьте нарезанные огурцы.</td>\n",
              "      <td>Нарежьте зелень.</td>\n",
              "      <td>Добавьте нарезанные огурцы.\\n\\nСалат из огурцо...</td>\n",
              "    </tr>\n",
              "    <tr>\n",
              "      <th>497</th>\n",
              "      <td>На каждой половинке у кочерыжки сделайте небол...</td>\n",
              "      <td>Тщательно промойте каждый лист пекинской капус...</td>\n",
              "      <td>На каждой половинке у кочерыжки сделайте небол...</td>\n",
              "    </tr>\n",
              "    <tr>\n",
              "      <th>498</th>\n",
              "      <td>А затем подаем мясо вместе с овощами, полив ос...</td>\n",
              "      <td>Вот и все!</td>\n",
              "      <td>А затем подаем мясо вместе с овощами, полив ос...</td>\n",
              "    </tr>\n",
              "    <tr>\n",
              "      <th>499</th>\n",
              "      <td>В глубокую посуду влить теплое молоко и развес...</td>\n",
              "      <td>Хорошо размешать, накрыть и поставить в теплое...</td>\n",
              "      <td>В глубокую посуду влить теплое молоко и развес...</td>\n",
              "    </tr>\n",
              "  </tbody>\n",
              "</table>\n",
              "<p>500 rows × 3 columns</p>\n",
              "</div>\n",
              "    <div class=\"colab-df-buttons\">\n",
              "\n",
              "  <div class=\"colab-df-container\">\n",
              "    <button class=\"colab-df-convert\" onclick=\"convertToInteractive('df-cf3e208d-5921-475b-8f3e-be8fe990cf08')\"\n",
              "            title=\"Convert this dataframe to an interactive table.\"\n",
              "            style=\"display:none;\">\n",
              "\n",
              "  <svg xmlns=\"http://www.w3.org/2000/svg\" height=\"24px\" viewBox=\"0 -960 960 960\">\n",
              "    <path d=\"M120-120v-720h720v720H120Zm60-500h600v-160H180v160Zm220 220h160v-160H400v160Zm0 220h160v-160H400v160ZM180-400h160v-160H180v160Zm440 0h160v-160H620v160ZM180-180h160v-160H180v160Zm440 0h160v-160H620v160Z\"/>\n",
              "  </svg>\n",
              "    </button>\n",
              "\n",
              "  <style>\n",
              "    .colab-df-container {\n",
              "      display:flex;\n",
              "      gap: 12px;\n",
              "    }\n",
              "\n",
              "    .colab-df-convert {\n",
              "      background-color: #E8F0FE;\n",
              "      border: none;\n",
              "      border-radius: 50%;\n",
              "      cursor: pointer;\n",
              "      display: none;\n",
              "      fill: #1967D2;\n",
              "      height: 32px;\n",
              "      padding: 0 0 0 0;\n",
              "      width: 32px;\n",
              "    }\n",
              "\n",
              "    .colab-df-convert:hover {\n",
              "      background-color: #E2EBFA;\n",
              "      box-shadow: 0px 1px 2px rgba(60, 64, 67, 0.3), 0px 1px 3px 1px rgba(60, 64, 67, 0.15);\n",
              "      fill: #174EA6;\n",
              "    }\n",
              "\n",
              "    .colab-df-buttons div {\n",
              "      margin-bottom: 4px;\n",
              "    }\n",
              "\n",
              "    [theme=dark] .colab-df-convert {\n",
              "      background-color: #3B4455;\n",
              "      fill: #D2E3FC;\n",
              "    }\n",
              "\n",
              "    [theme=dark] .colab-df-convert:hover {\n",
              "      background-color: #434B5C;\n",
              "      box-shadow: 0px 1px 3px 1px rgba(0, 0, 0, 0.15);\n",
              "      filter: drop-shadow(0px 1px 2px rgba(0, 0, 0, 0.3));\n",
              "      fill: #FFFFFF;\n",
              "    }\n",
              "  </style>\n",
              "\n",
              "    <script>\n",
              "      const buttonEl =\n",
              "        document.querySelector('#df-cf3e208d-5921-475b-8f3e-be8fe990cf08 button.colab-df-convert');\n",
              "      buttonEl.style.display =\n",
              "        google.colab.kernel.accessAllowed ? 'block' : 'none';\n",
              "\n",
              "      async function convertToInteractive(key) {\n",
              "        const element = document.querySelector('#df-cf3e208d-5921-475b-8f3e-be8fe990cf08');\n",
              "        const dataTable =\n",
              "          await google.colab.kernel.invokeFunction('convertToInteractive',\n",
              "                                                    [key], {});\n",
              "        if (!dataTable) return;\n",
              "\n",
              "        const docLinkHtml = 'Like what you see? Visit the ' +\n",
              "          '<a target=\"_blank\" href=https://colab.research.google.com/notebooks/data_table.ipynb>data table notebook</a>'\n",
              "          + ' to learn more about interactive tables.';\n",
              "        element.innerHTML = '';\n",
              "        dataTable['output_type'] = 'display_data';\n",
              "        await google.colab.output.renderOutput(dataTable, element);\n",
              "        const docLink = document.createElement('div');\n",
              "        docLink.innerHTML = docLinkHtml;\n",
              "        element.appendChild(docLink);\n",
              "      }\n",
              "    </script>\n",
              "  </div>\n",
              "\n",
              "\n",
              "<div id=\"df-fda4dbc4-8fc6-49fa-9f16-f42dee4bc9d5\">\n",
              "  <button class=\"colab-df-quickchart\" onclick=\"quickchart('df-fda4dbc4-8fc6-49fa-9f16-f42dee4bc9d5')\"\n",
              "            title=\"Suggest charts\"\n",
              "            style=\"display:none;\">\n",
              "\n",
              "<svg xmlns=\"http://www.w3.org/2000/svg\" height=\"24px\"viewBox=\"0 0 24 24\"\n",
              "     width=\"24px\">\n",
              "    <g>\n",
              "        <path d=\"M19 3H5c-1.1 0-2 .9-2 2v14c0 1.1.9 2 2 2h14c1.1 0 2-.9 2-2V5c0-1.1-.9-2-2-2zM9 17H7v-7h2v7zm4 0h-2V7h2v10zm4 0h-2v-4h2v4z\"/>\n",
              "    </g>\n",
              "</svg>\n",
              "  </button>\n",
              "\n",
              "<style>\n",
              "  .colab-df-quickchart {\n",
              "      --bg-color: #E8F0FE;\n",
              "      --fill-color: #1967D2;\n",
              "      --hover-bg-color: #E2EBFA;\n",
              "      --hover-fill-color: #174EA6;\n",
              "      --disabled-fill-color: #AAA;\n",
              "      --disabled-bg-color: #DDD;\n",
              "  }\n",
              "\n",
              "  [theme=dark] .colab-df-quickchart {\n",
              "      --bg-color: #3B4455;\n",
              "      --fill-color: #D2E3FC;\n",
              "      --hover-bg-color: #434B5C;\n",
              "      --hover-fill-color: #FFFFFF;\n",
              "      --disabled-bg-color: #3B4455;\n",
              "      --disabled-fill-color: #666;\n",
              "  }\n",
              "\n",
              "  .colab-df-quickchart {\n",
              "    background-color: var(--bg-color);\n",
              "    border: none;\n",
              "    border-radius: 50%;\n",
              "    cursor: pointer;\n",
              "    display: none;\n",
              "    fill: var(--fill-color);\n",
              "    height: 32px;\n",
              "    padding: 0;\n",
              "    width: 32px;\n",
              "  }\n",
              "\n",
              "  .colab-df-quickchart:hover {\n",
              "    background-color: var(--hover-bg-color);\n",
              "    box-shadow: 0 1px 2px rgba(60, 64, 67, 0.3), 0 1px 3px 1px rgba(60, 64, 67, 0.15);\n",
              "    fill: var(--button-hover-fill-color);\n",
              "  }\n",
              "\n",
              "  .colab-df-quickchart-complete:disabled,\n",
              "  .colab-df-quickchart-complete:disabled:hover {\n",
              "    background-color: var(--disabled-bg-color);\n",
              "    fill: var(--disabled-fill-color);\n",
              "    box-shadow: none;\n",
              "  }\n",
              "\n",
              "  .colab-df-spinner {\n",
              "    border: 2px solid var(--fill-color);\n",
              "    border-color: transparent;\n",
              "    border-bottom-color: var(--fill-color);\n",
              "    animation:\n",
              "      spin 1s steps(1) infinite;\n",
              "  }\n",
              "\n",
              "  @keyframes spin {\n",
              "    0% {\n",
              "      border-color: transparent;\n",
              "      border-bottom-color: var(--fill-color);\n",
              "      border-left-color: var(--fill-color);\n",
              "    }\n",
              "    20% {\n",
              "      border-color: transparent;\n",
              "      border-left-color: var(--fill-color);\n",
              "      border-top-color: var(--fill-color);\n",
              "    }\n",
              "    30% {\n",
              "      border-color: transparent;\n",
              "      border-left-color: var(--fill-color);\n",
              "      border-top-color: var(--fill-color);\n",
              "      border-right-color: var(--fill-color);\n",
              "    }\n",
              "    40% {\n",
              "      border-color: transparent;\n",
              "      border-right-color: var(--fill-color);\n",
              "      border-top-color: var(--fill-color);\n",
              "    }\n",
              "    60% {\n",
              "      border-color: transparent;\n",
              "      border-right-color: var(--fill-color);\n",
              "    }\n",
              "    80% {\n",
              "      border-color: transparent;\n",
              "      border-right-color: var(--fill-color);\n",
              "      border-bottom-color: var(--fill-color);\n",
              "    }\n",
              "    90% {\n",
              "      border-color: transparent;\n",
              "      border-bottom-color: var(--fill-color);\n",
              "    }\n",
              "  }\n",
              "</style>\n",
              "\n",
              "  <script>\n",
              "    async function quickchart(key) {\n",
              "      const quickchartButtonEl =\n",
              "        document.querySelector('#' + key + ' button');\n",
              "      quickchartButtonEl.disabled = true;  // To prevent multiple clicks.\n",
              "      quickchartButtonEl.classList.add('colab-df-spinner');\n",
              "      try {\n",
              "        const charts = await google.colab.kernel.invokeFunction(\n",
              "            'suggestCharts', [key], {});\n",
              "      } catch (error) {\n",
              "        console.error('Error during call to suggestCharts:', error);\n",
              "      }\n",
              "      quickchartButtonEl.classList.remove('colab-df-spinner');\n",
              "      quickchartButtonEl.classList.add('colab-df-quickchart-complete');\n",
              "    }\n",
              "    (() => {\n",
              "      let quickchartButtonEl =\n",
              "        document.querySelector('#df-fda4dbc4-8fc6-49fa-9f16-f42dee4bc9d5 button');\n",
              "      quickchartButtonEl.style.display =\n",
              "        google.colab.kernel.accessAllowed ? 'block' : 'none';\n",
              "    })();\n",
              "  </script>\n",
              "</div>\n",
              "    </div>\n",
              "  </div>\n"
            ],
            "application/vnd.google.colaboratory.intrinsic+json": {
              "type": "dataframe",
              "variable_name": "df_new",
              "summary": "{\n  \"name\": \"df_new\",\n  \"rows\": 500,\n  \"fields\": [\n    {\n      \"column\": \"initial sentence\",\n      \"properties\": {\n        \"dtype\": \"string\",\n        \"num_unique_values\": 500,\n        \"samples\": [\n          \"\\u041e\\u0447\\u0438\\u0441\\u0442\\u0438\\u0442\\u044c \\u043b\\u0443\\u043a \\u0438 \\u043d\\u0430\\u0440\\u0435\\u0437\\u0430\\u0442\\u044c \\u0435\\u0433\\u043e \\u043c\\u0435\\u043b\\u043a\\u0438\\u043c\\u0438 \\u043a\\u0443\\u0431\\u0438\\u043a\\u0430\\u043c\\u0438.\",\n          \"\\u041a\\u0430\\u0440\\u0442\\u043e\\u0444\\u0435\\u043b\\u044c \\u0438 \\u043b\\u0443\\u043a \\u043e\\u0447\\u0438\\u0441\\u0442\\u0438\\u0442\\u0435, \\u0430 \\u043e\\u043a\\u043e\\u0440\\u043e\\u0447\\u043a\\u0430 \\u0440\\u0430\\u0437\\u043c\\u043e\\u0440\\u043e\\u0437\\u044c\\u0442\\u0435, \\u0435\\u0441\\u043b\\u0438 \\u0432\\u044b \\u043a\\u0443\\u043f\\u0438\\u043b\\u0438 \\u0438\\u0445 \\u0437\\u0430\\u043c\\u043e\\u0440\\u043e\\u0436\\u0435\\u043d\\u043d\\u044b\\u043c\\u0438.\",\n          \"\\u041d\\u0430\\u043c \\u043e\\u0441\\u0442\\u0430\\u0435\\u0442\\u0441\\u044f \\u0442\\u043e\\u043b\\u044c\\u043a\\u043e \\u0434\\u043e\\u0431\\u0430\\u0432\\u0438\\u0442\\u044c \\u0432 \\u043c\\u0430\\u0439\\u043e\\u043d\\u0435\\u0437 \\u043b\\u0438\\u043c\\u043e\\u043d\\u043d\\u044b\\u0439 \\u0441\\u043e\\u043a, \\u0433\\u043e\\u0440\\u0447\\u0438\\u0446\\u0443 \\u0438 \\u0441\\u043e\\u043b\\u044c \\u043f\\u043e \\u0432\\u043a\\u0443\\u0441\\u0443 \\u0438 \\u0435\\u0449\\u0435 \\u0440\\u0430\\u0437 \\u0432\\u0437\\u0431\\u0438\\u0442\\u044c \\u043c\\u0430\\u0441\\u0441\\u0443.\"\n        ],\n        \"semantic_type\": \"\",\n        \"description\": \"\"\n      }\n    },\n    {\n      \"column\": \"true sentence\",\n      \"properties\": {\n        \"dtype\": \"string\",\n        \"num_unique_values\": 477,\n        \"samples\": [\n          \"\\u041a\\u043e\\u0433\\u0434\\u0430 \\u043c\\u043e\\u043b\\u043e\\u043a\\u043e \\u043d\\u0430\\u0447\\u043d\\u0435\\u0442 \\u043a\\u0438\\u043f\\u0435\\u0442\\u044c, \\u0432\\u0430\\u0440\\u0438\\u043c \\u043c\\u0438\\u043d\\u0443\\u0442 \\u0441\\u0435\\u043c\\u044c-\\u0434\\u0435\\u0441\\u044f\\u0442\\u044c, \\u043f\\u0435\\u0440\\u0438\\u043e\\u0434\\u0438\\u0447\\u0435\\u0441\\u043a\\u0438 \\u043d\\u0435 \\u0437\\u0430\\u0431\\u044b\\u0432\\u0430\\u0435\\u043c \\u043f\\u043e\\u043c\\u0435\\u0448\\u0438\\u0432\\u0430\\u0442\\u044c.\",\n          \"\\u041f\\u043e\\u043c\\u0435\\u0441\\u0442\\u0438\\u0442\\u0435 \\u0432 \\u0445\\u043e\\u043b\\u043e\\u0434\\u0438\\u043b\\u044c\\u043d\\u0438\\u043a \\u043d\\u0430 1 \\u0447\\u0430\\u0441 \\u0434\\u043b\\u044f \\u043f\\u0440\\u043e\\u043f\\u0438\\u0442\\u044b\\u0432\\u0430\\u043d\\u0438\\u044f.\",\n          \"\\u0412\\u0437\\u0431\\u0435\\u0439\\u0442\\u0435 \\u0432\\u0441\\u0435 \\u0432\\u0435\\u043d\\u0447\\u0438\\u043a\\u043e\\u043c.\"\n        ],\n        \"semantic_type\": \"\",\n        \"description\": \"\"\n      }\n    },\n    {\n      \"column\": \"generated text\",\n      \"properties\": {\n        \"dtype\": \"string\",\n        \"num_unique_values\": 500,\n        \"samples\": [\n          \"\\u041e\\u0447\\u0438\\u0441\\u0442\\u0438\\u0442\\u044c \\u043b\\u0443\\u043a \\u0438 \\u043d\\u0430\\u0440\\u0435\\u0437\\u0430\\u0442\\u044c \\u0435\\u0433\\u043e \\u043c\\u0435\\u043b\\u043a\\u0438\\u043c\\u0438 \\u043a\\u0443\\u0431\\u0438\\u043a\\u0430\\u043c\\u0438.\\n\\n\\u0412 \\u0441\\u043a\\u043e\\u0432\\u043e\\u0440\\u043e\\u0434\\u0435 \\u0440\\u0430\\u0437\\u043e\\u0433\\u0440\\u0435\\u0442\\u044c \\u0440\\u0430\\u0441\\u0442\\u0438\\u0442\\u0435\\u043b\\u044c\\u043d\\u043e\\u0435 \\u043c\\u0430\\u0441\\u043b\\u043e \\u0438 \\u043e\\u0431\\u0436\\u0430\\u0440\\u0438\\u0442\\u044c \\u043b\\u0443\\u043a \\u0434\\u043e \\u0437\\u043e\\u043b\\u043e\\u0442\\u0438\\u0441\\u0442\\u043e\\u0433\\u043e \\u0446\\u0432\\u0435\\u0442\\u0430.\\n\\n\\u0412\\u043b\\u0438\\u0442\\u044c \\u0432 \\u0441\\u043a\\u043e\\u0432\",\n          \"\\u041a\\u0430\\u0440\\u0442\\u043e\\u0444\\u0435\\u043b\\u044c \\u0438 \\u043b\\u0443\\u043a \\u043e\\u0447\\u0438\\u0441\\u0442\\u0438\\u0442\\u0435, \\u0430 \\u043e\\u043a\\u043e\\u0440\\u043e\\u0447\\u043a\\u0430 \\u0440\\u0430\\u0437\\u043c\\u043e\\u0440\\u043e\\u0437\\u044c\\u0442\\u0435, \\u0435\\u0441\\u043b\\u0438 \\u0432\\u044b \\u043a\\u0443\\u043f\\u0438\\u043b\\u0438 \\u0438\\u0445 \\u0437\\u0430\\u043c\\u043e\\u0440\\u043e\\u0436\\u0435\\u043d\\u043d\\u044b\\u043c\\u0438.\\n\\n\\u041d\\u0430\\u0440\\u0435\\u0436\\u044c\\u0442\\u0435 \\u043a\\u0430\\u0440\\u0442\\u043e\\u0444\\u0435\\u043b\\u044c \\u043a\\u0443\\u0431\\u0438\\u043a\\u0430\\u043c\\u0438, \\u043b\\u0443\\u043a \\u2013 \\u043f\\u043e\\u043b\\u0443\\u043a\\u043e\\u043b\\u044c\\u0446\\u0430\\u043c\\u0438.\\n\\n\\u0412 \\u0441\\u043a\\u043e\\u0432\\u043e\\u0440\\u043e\\u0434\\u0435 \\u0440\\u0430\\u0437\\u043e\\u0433\\u0440\\u0435\\u0439\\u0442\\u0435 \\u0440\\u0430\\u0441\\u0442\\u0438\\u0442\\u0435\\u043b\\u044c\\u043d\\u043e\\u0435\",\n          \"\\u041d\\u0430\\u043c \\u043e\\u0441\\u0442\\u0430\\u0435\\u0442\\u0441\\u044f \\u0442\\u043e\\u043b\\u044c\\u043a\\u043e \\u0434\\u043e\\u0431\\u0430\\u0432\\u0438\\u0442\\u044c \\u0432 \\u043c\\u0430\\u0439\\u043e\\u043d\\u0435\\u0437 \\u043b\\u0438\\u043c\\u043e\\u043d\\u043d\\u044b\\u0439 \\u0441\\u043e\\u043a, \\u0433\\u043e\\u0440\\u0447\\u0438\\u0446\\u0443 \\u0438 \\u0441\\u043e\\u043b\\u044c \\u043f\\u043e \\u0432\\u043a\\u0443\\u0441\\u0443 \\u0438 \\u0435\\u0449\\u0435 \\u0440\\u0430\\u0437 \\u0432\\u0437\\u0431\\u0438\\u0442\\u044c \\u043c\\u0430\\u0441\\u0441\\u0443.\\n\\n\\u0421\\u0430\\u043b\\u0430\\u0442 \\u0438\\u0437 \\u0441\\u0432\\u0435\\u043a\\u043b\\u044b \\u0441 \\u043c\\u043e\\u0440\\u043a\\u043e\\u0432\\u044c\\u044e \\u0438 \\u044f\\u0431\\u043b\\u043e\\u043a\\u0430\\u043c\\u0438\\n\\n\\u0418\\u043d\\u0433\\u0440\\u0435\\u0434\\u0438\\u0435\\u043d\\u0442\\u044b:\\n\\n1 \\u0441\\u0432\\u0435\\u043a\\u043b\\u0430,\"\n        ],\n        \"semantic_type\": \"\",\n        \"description\": \"\"\n      }\n    }\n  ]\n}"
            }
          },
          "metadata": {},
          "execution_count": 84
        }
      ]
    },
    {
      "cell_type": "code",
      "source": [
        "df_new.to_csv('generated_texts.csv')"
      ],
      "metadata": {
        "id": "BPj1i3hyD4my"
      },
      "execution_count": null,
      "outputs": []
    },
    {
      "cell_type": "markdown",
      "source": [
        "Для того, чтобы тексты из второго и третьего столбца меньше отличались по формату, произведем форматирование."
      ],
      "metadata": {
        "id": "P4fsXvyCgdwa"
      }
    },
    {
      "cell_type": "code",
      "source": [
        "modified = df_new['generated text'].tolist()"
      ],
      "metadata": {
        "id": "cRj3YBuzXwlP"
      },
      "execution_count": null,
      "outputs": []
    },
    {
      "cell_type": "code",
      "source": [
        "for i in range(len(modified)):\n",
        "    modified[i] = re.sub(r'([.,!?])([А-ЯЁ])', r'\\1 \\2',\n",
        "                         modified[i].replace(initial_prompts[i], '').replace('\\n','').replace('\\xa0', ' ').strip())\n",
        "    if modified[i][-1].isdigit() or modified[i][-1].isalpha():\n",
        "        modified[i] += '...'\n",
        "    new_phrase = \"\"\n",
        "    for j in range(len(modified[i])):\n",
        "        if modified[i][j].isupper() and j > 0 and modified[i][j-1] != ' ':\n",
        "            new_phrase += '. '\n",
        "        new_phrase += modified[i][j]\n",
        "\n",
        "    for j in range(len(modified[i])):\n",
        "        if modified[i][j].isdigit() and j > 0 and modified[i][j-1].isalpha():\n",
        "            new_phrase += ', '\n",
        "        new_phrase += modified[i][j]\n",
        "\n",
        "    modified[i] = new_phrase\n",
        "\n",
        "modified"
      ],
      "metadata": {
        "id": "mbCJrnDFSAvN"
      },
      "execution_count": null,
      "outputs": []
    },
    {
      "cell_type": "code",
      "source": [
        "df_new['generated text'] = modified"
      ],
      "metadata": {
        "id": "I7gq3J4RZc4B"
      },
      "execution_count": null,
      "outputs": []
    },
    {
      "cell_type": "code",
      "source": [
        "true_modified = df_new['true sentence'].tolist()"
      ],
      "metadata": {
        "id": "t-SpjKJhZ7Iv"
      },
      "execution_count": null,
      "outputs": []
    },
    {
      "cell_type": "code",
      "source": [
        "for t in range(len(true_modified)):\n",
        "    c = random.randint(10, 25)\n",
        "    if len(true_modified[t].split(' ')) > c:\n",
        "        true_modified[t] = ' '.join(true_modified[t].split(' ')[:c]) + '...'\n",
        "\n",
        "true_modified"
      ],
      "metadata": {
        "id": "EUBrc0hjaAY5"
      },
      "execution_count": null,
      "outputs": []
    },
    {
      "cell_type": "code",
      "source": [
        "df_new['true sentence'] = true_modified"
      ],
      "metadata": {
        "id": "lp4skXIyZkul"
      },
      "execution_count": null,
      "outputs": []
    },
    {
      "cell_type": "code",
      "source": [
        "df_new.to_csv('generated_texts.csv')"
      ],
      "metadata": {
        "id": "Ilu5jwP-dXPQ"
      },
      "execution_count": null,
      "outputs": []
    },
    {
      "cell_type": "markdown",
      "source": [
        "Продолжаем форматирование. Удаляем спецсимволы."
      ],
      "metadata": {
        "id": "EOo4M-NHDLTI"
      }
    },
    {
      "cell_type": "code",
      "source": [
        "df = pd.read_csv('generated_texts.csv')\n",
        "df"
      ],
      "metadata": {
        "id": "tFzYob9ACxqy"
      },
      "execution_count": null,
      "outputs": []
    },
    {
      "cell_type": "code",
      "source": [
        "def remove_special_chars(cell):\n",
        "    return cell.replace('\\n', '').replace('\\t', '').replace('\\r', '')\n",
        "\n",
        "df_cleaned = df[['initial sentence', 'true sentence', 'generated text']].applymap(remove_special_chars)"
      ],
      "metadata": {
        "id": "quWviMHSD7yg"
      },
      "execution_count": 183,
      "outputs": []
    },
    {
      "cell_type": "code",
      "source": [
        "import re"
      ],
      "metadata": {
        "id": "RgZQ3IYjHU93"
      },
      "execution_count": 184,
      "outputs": []
    },
    {
      "cell_type": "code",
      "source": [
        "d = df_cleaned['generated text'].tolist()"
      ],
      "metadata": {
        "id": "ORVZxXs5JfE-"
      },
      "execution_count": 185,
      "outputs": []
    },
    {
      "cell_type": "code",
      "source": [
        "for text in range(len(d)):\n",
        "    text_list = d[text].split('.')\n",
        "    unique_text_parts = []\n",
        "    for part in text_list:\n",
        "        if part.strip() not in unique_text_parts:\n",
        "            unique_text_parts.append(part.strip())\n",
        "    d[text] = '. '.join(unique_text_parts)"
      ],
      "metadata": {
        "id": "5hUWYCu0oynT"
      },
      "execution_count": 187,
      "outputs": []
    },
    {
      "cell_type": "code",
      "source": [
        "for t in range(len(d)):\n",
        "    if '. . ' in d[t]:\n",
        "        d[t] = d[t].split('. . ')[0]"
      ],
      "metadata": {
        "id": "VQmhWiIqtazf"
      },
      "execution_count": 188,
      "outputs": []
    },
    {
      "cell_type": "code",
      "source": [
        "for t in range(len(d)):\n",
        "    for i in range(len(d[t])-2):\n",
        "        if d[t][i] == ',' and d[t][i+1].isupper():\n",
        "            d[t] = d[t].split(f'{d[t][i]}{d[t][i+1]}')[0]\n",
        "            break"
      ],
      "metadata": {
        "id": "5xByD4mFxVGz"
      },
      "execution_count": 189,
      "outputs": []
    },
    {
      "cell_type": "code",
      "source": [
        "for t in range(len(d)):\n",
        "    d[t] = d[t].replace('• ', '').replace(' •', '')"
      ],
      "metadata": {
        "id": "reGll0NuyHiz"
      },
      "execution_count": 191,
      "outputs": []
    },
    {
      "cell_type": "code",
      "source": [
        "for t in range(len(d)):\n",
        "    for i in range(len(d[t])-2):\n",
        "        if d[t][i] == ';' and d[t][i+1].isupper():\n",
        "            d[t] = d[t].split(f'{d[t][i]}{d[t][i+1]}')[0]\n",
        "            break"
      ],
      "metadata": {
        "id": "MoXUvSLiymVl"
      },
      "execution_count": 192,
      "outputs": []
    },
    {
      "cell_type": "code",
      "source": [
        "for t in range(len(d)):\n",
        "    for i in range(len(d[t])-2):\n",
        "        if d[t][i] == ';' and d[t][i+2].isupper():\n",
        "            d[t] = d[t].split(f'{d[t][i]}{d[t][i+1]}')[0]\n",
        "            break"
      ],
      "metadata": {
        "id": "qNn8LW5O1lU3"
      },
      "execution_count": 193,
      "outputs": []
    },
    {
      "cell_type": "code",
      "source": [
        "for t in range(len(d)):\n",
        "    for i in range(len(d[t])-2):\n",
        "        if d[t][i] == ':' and d[t][i+2].isupper():\n",
        "            d[t] = d[t].split(f'{d[t][i]}{d[t][i+1]}')[0]\n",
        "            break"
      ],
      "metadata": {
        "id": "Wn__wmK92r4d"
      },
      "execution_count": 194,
      "outputs": []
    },
    {
      "cell_type": "code",
      "source": [
        "for t in range(len(d)):\n",
        "    for i in range(len(d[t])-2):\n",
        "        if d[t][i] == ':' and d[t][i+1] != ' ':\n",
        "            d[t] = d[t].replace(':', ': ')"
      ],
      "metadata": {
        "id": "ErzwOQcxywUI"
      },
      "execution_count": 195,
      "outputs": []
    },
    {
      "cell_type": "code",
      "source": [
        "for t in range(len(d)):\n",
        "    for i in range(len(d[t])-2):\n",
        "        if d[t][i].isalpha() and d[t][i+1].isdigit():\n",
        "            d[t] = d[t].replace(f'{d[t][i]}{d[t][i+1]}', f'{d[t][i]} {d[t][i+1]}')\n"
      ],
      "metadata": {
        "id": "FTAZAw1XzHOQ"
      },
      "execution_count": 196,
      "outputs": []
    },
    {
      "cell_type": "code",
      "source": [
        "for t in range(len(d)):\n",
        "    for i in range(len(d[t])-2):\n",
        "        if d[t][i] == ';' and d[t][i+1] != ' ':\n",
        "            d[t] = d[t].replace(';', '; ')"
      ],
      "metadata": {
        "id": "lk9zkXNIz_dz"
      },
      "execution_count": 197,
      "outputs": []
    },
    {
      "cell_type": "code",
      "source": [
        "for t in range(len(d)):\n",
        "    d[t] = d[t].replace('Ингредиенты ', 'Ингредиенты: ')"
      ],
      "metadata": {
        "id": "1gaEKJlX0LhL"
      },
      "execution_count": 198,
      "outputs": []
    },
    {
      "cell_type": "code",
      "source": [
        "for t in range(len(d)):\n",
        "    if ' . ' in d[t]:\n",
        "        d[t] = d[t].replace(' . ', '')"
      ],
      "metadata": {
        "id": "ER3P8btZvUXy"
      },
      "execution_count": 199,
      "outputs": []
    },
    {
      "cell_type": "code",
      "source": [
        "for t in range(len(d)):\n",
        "    d[t] = d[t].rstrip().rstrip(',').rstrip('—')"
      ],
      "metadata": {
        "id": "0O9vlQK33_wU"
      },
      "execution_count": 200,
      "outputs": []
    },
    {
      "cell_type": "code",
      "source": [
        "for t in range(len(d)):\n",
        "    if d[t][-1] == '.':\n",
        "        d[t] = d[t]+'..'\n",
        "    else:\n",
        "        d[t] = d[t]+'...'"
      ],
      "metadata": {
        "id": "uGoqrZTk6tCc"
      },
      "execution_count": 201,
      "outputs": []
    },
    {
      "cell_type": "code",
      "source": [
        "d"
      ],
      "metadata": {
        "id": "NcVSugtLAl9_"
      },
      "execution_count": null,
      "outputs": []
    },
    {
      "cell_type": "code",
      "source": [
        "df_cleaned['generated text'] = d"
      ],
      "metadata": {
        "id": "uJjQZGO47ATr"
      },
      "execution_count": 203,
      "outputs": []
    },
    {
      "cell_type": "code",
      "source": [
        "f = df_cleaned['true sentence'].tolist()\n",
        "for i in range(len(f)):\n",
        "    if '...' in f[i]:\n",
        "        pass\n",
        "    elif f[i][-1] == '.':\n",
        "        f[i] = f[i]+'..'\n",
        "    else:\n",
        "        f[i] = f[i]+'...'\n",
        "    f[i] = f[i].replace('......', '...')"
      ],
      "metadata": {
        "id": "za6I0aEB7Sdo"
      },
      "execution_count": 206,
      "outputs": []
    },
    {
      "cell_type": "code",
      "source": [
        "df_cleaned['true sentence'] = f"
      ],
      "metadata": {
        "id": "AEaD_KG77O50"
      },
      "execution_count": 208,
      "outputs": []
    },
    {
      "cell_type": "code",
      "source": [
        "df_cleaned"
      ],
      "metadata": {
        "colab": {
          "base_uri": "https://localhost:8080/",
          "height": 545
        },
        "id": "5DBqEHgU8Izw",
        "outputId": "209da01f-d149-49e5-c250-338eaa81a24b"
      },
      "execution_count": 209,
      "outputs": [
        {
          "output_type": "execute_result",
          "data": {
            "text/plain": [
              "                                      initial sentence  \\\n",
              "0    Берем любую глубокую посуду и начинаем выклады...   \n",
              "1     В глубокой миске соедините два вида фарша, пе...   \n",
              "2                                Чуть отжимаем руками.   \n",
              "3    Обжариваем ребрышки до золотистого цвета на ра...   \n",
              "4    Я обычно ставлю недалеко от плиты, поэтому пол...   \n",
              "..                                                 ...   \n",
              "495  Чтобы всё получилось без сюрпризов, рекомендую...   \n",
              "496                        Добавьте нарезанные огурцы.   \n",
              "497  На каждой половинке у кочерыжки сделайте небол...   \n",
              "498  А затем подаем мясо вместе с овощами, полив ос...   \n",
              "499  В глубокую посуду влить теплое молоко и развес...   \n",
              "\n",
              "                                         true sentence  \\\n",
              "0    Так чтобы самым последним оказался сахарный сл...   \n",
              "1      Сформируйте из фарша шарики среднего размера...   \n",
              "2    Теперь поместим огурец в соусницу, добавим спе...   \n",
              "3                  Присыпаем готовое блюдо кунжутом...   \n",
              "4    Готовую капусту уберите в прохладное место для...   \n",
              "..                                                 ...   \n",
              "495              Или же смажьте растительным маслом...   \n",
              "496                                 Нарежьте зелень...   \n",
              "497  Тщательно промойте каждый лист пекинской капус...   \n",
              "498                                      Вот и все!...   \n",
              "499  Хорошо размешать, накрыть и поставить в теплое...   \n",
              "\n",
              "                                        generated text  \n",
              "0    Затем добавляем корицу, гвоздику, ваниль, кори...  \n",
              "1    На дно формы положите половину теста, сверху п...  \n",
              "2    Начинаем сгибать руки в локтях. Сгибаем руки в...  \n",
              "3    Добавляем к ним лук, морковь, помидоры, томатн...  \n",
              "4    Как приготовить вкусный салат из капусты? Сала...  \n",
              "..                                                 ...  \n",
              "495  Для этого нужно взять лист бумаги и вырезать и...  \n",
              "496  Салат из огурцов с помидорами. Ингредиенты. Ог...  \n",
              "497  Вставьте кочерыжку в отверстие, которое вы сде...  \n",
              "498  Салат из курицы с овощами. Ингредиенты: 1 кури...  \n",
              "499  Влить масло и замесить тесто. Тесто разделить ...  \n",
              "\n",
              "[500 rows x 3 columns]"
            ],
            "text/html": [
              "\n",
              "  <div id=\"df-738dada0-87d1-406b-9272-7a796fa35354\" class=\"colab-df-container\">\n",
              "    <div>\n",
              "<style scoped>\n",
              "    .dataframe tbody tr th:only-of-type {\n",
              "        vertical-align: middle;\n",
              "    }\n",
              "\n",
              "    .dataframe tbody tr th {\n",
              "        vertical-align: top;\n",
              "    }\n",
              "\n",
              "    .dataframe thead th {\n",
              "        text-align: right;\n",
              "    }\n",
              "</style>\n",
              "<table border=\"1\" class=\"dataframe\">\n",
              "  <thead>\n",
              "    <tr style=\"text-align: right;\">\n",
              "      <th></th>\n",
              "      <th>initial sentence</th>\n",
              "      <th>true sentence</th>\n",
              "      <th>generated text</th>\n",
              "    </tr>\n",
              "  </thead>\n",
              "  <tbody>\n",
              "    <tr>\n",
              "      <th>0</th>\n",
              "      <td>Берем любую глубокую посуду и начинаем выклады...</td>\n",
              "      <td>Так чтобы самым последним оказался сахарный сл...</td>\n",
              "      <td>Затем добавляем корицу, гвоздику, ваниль, кори...</td>\n",
              "    </tr>\n",
              "    <tr>\n",
              "      <th>1</th>\n",
              "      <td>В глубокой миске соедините два вида фарша, пе...</td>\n",
              "      <td>Сформируйте из фарша шарики среднего размера...</td>\n",
              "      <td>На дно формы положите половину теста, сверху п...</td>\n",
              "    </tr>\n",
              "    <tr>\n",
              "      <th>2</th>\n",
              "      <td>Чуть отжимаем руками.</td>\n",
              "      <td>Теперь поместим огурец в соусницу, добавим спе...</td>\n",
              "      <td>Начинаем сгибать руки в локтях. Сгибаем руки в...</td>\n",
              "    </tr>\n",
              "    <tr>\n",
              "      <th>3</th>\n",
              "      <td>Обжариваем ребрышки до золотистого цвета на ра...</td>\n",
              "      <td>Присыпаем готовое блюдо кунжутом...</td>\n",
              "      <td>Добавляем к ним лук, морковь, помидоры, томатн...</td>\n",
              "    </tr>\n",
              "    <tr>\n",
              "      <th>4</th>\n",
              "      <td>Я обычно ставлю недалеко от плиты, поэтому пол...</td>\n",
              "      <td>Готовую капусту уберите в прохладное место для...</td>\n",
              "      <td>Как приготовить вкусный салат из капусты? Сала...</td>\n",
              "    </tr>\n",
              "    <tr>\n",
              "      <th>...</th>\n",
              "      <td>...</td>\n",
              "      <td>...</td>\n",
              "      <td>...</td>\n",
              "    </tr>\n",
              "    <tr>\n",
              "      <th>495</th>\n",
              "      <td>Чтобы всё получилось без сюрпризов, рекомендую...</td>\n",
              "      <td>Или же смажьте растительным маслом...</td>\n",
              "      <td>Для этого нужно взять лист бумаги и вырезать и...</td>\n",
              "    </tr>\n",
              "    <tr>\n",
              "      <th>496</th>\n",
              "      <td>Добавьте нарезанные огурцы.</td>\n",
              "      <td>Нарежьте зелень...</td>\n",
              "      <td>Салат из огурцов с помидорами. Ингредиенты. Ог...</td>\n",
              "    </tr>\n",
              "    <tr>\n",
              "      <th>497</th>\n",
              "      <td>На каждой половинке у кочерыжки сделайте небол...</td>\n",
              "      <td>Тщательно промойте каждый лист пекинской капус...</td>\n",
              "      <td>Вставьте кочерыжку в отверстие, которое вы сде...</td>\n",
              "    </tr>\n",
              "    <tr>\n",
              "      <th>498</th>\n",
              "      <td>А затем подаем мясо вместе с овощами, полив ос...</td>\n",
              "      <td>Вот и все!...</td>\n",
              "      <td>Салат из курицы с овощами. Ингредиенты: 1 кури...</td>\n",
              "    </tr>\n",
              "    <tr>\n",
              "      <th>499</th>\n",
              "      <td>В глубокую посуду влить теплое молоко и развес...</td>\n",
              "      <td>Хорошо размешать, накрыть и поставить в теплое...</td>\n",
              "      <td>Влить масло и замесить тесто. Тесто разделить ...</td>\n",
              "    </tr>\n",
              "  </tbody>\n",
              "</table>\n",
              "<p>500 rows × 3 columns</p>\n",
              "</div>\n",
              "    <div class=\"colab-df-buttons\">\n",
              "\n",
              "  <div class=\"colab-df-container\">\n",
              "    <button class=\"colab-df-convert\" onclick=\"convertToInteractive('df-738dada0-87d1-406b-9272-7a796fa35354')\"\n",
              "            title=\"Convert this dataframe to an interactive table.\"\n",
              "            style=\"display:none;\">\n",
              "\n",
              "  <svg xmlns=\"http://www.w3.org/2000/svg\" height=\"24px\" viewBox=\"0 -960 960 960\">\n",
              "    <path d=\"M120-120v-720h720v720H120Zm60-500h600v-160H180v160Zm220 220h160v-160H400v160Zm0 220h160v-160H400v160ZM180-400h160v-160H180v160Zm440 0h160v-160H620v160ZM180-180h160v-160H180v160Zm440 0h160v-160H620v160Z\"/>\n",
              "  </svg>\n",
              "    </button>\n",
              "\n",
              "  <style>\n",
              "    .colab-df-container {\n",
              "      display:flex;\n",
              "      gap: 12px;\n",
              "    }\n",
              "\n",
              "    .colab-df-convert {\n",
              "      background-color: #E8F0FE;\n",
              "      border: none;\n",
              "      border-radius: 50%;\n",
              "      cursor: pointer;\n",
              "      display: none;\n",
              "      fill: #1967D2;\n",
              "      height: 32px;\n",
              "      padding: 0 0 0 0;\n",
              "      width: 32px;\n",
              "    }\n",
              "\n",
              "    .colab-df-convert:hover {\n",
              "      background-color: #E2EBFA;\n",
              "      box-shadow: 0px 1px 2px rgba(60, 64, 67, 0.3), 0px 1px 3px 1px rgba(60, 64, 67, 0.15);\n",
              "      fill: #174EA6;\n",
              "    }\n",
              "\n",
              "    .colab-df-buttons div {\n",
              "      margin-bottom: 4px;\n",
              "    }\n",
              "\n",
              "    [theme=dark] .colab-df-convert {\n",
              "      background-color: #3B4455;\n",
              "      fill: #D2E3FC;\n",
              "    }\n",
              "\n",
              "    [theme=dark] .colab-df-convert:hover {\n",
              "      background-color: #434B5C;\n",
              "      box-shadow: 0px 1px 3px 1px rgba(0, 0, 0, 0.15);\n",
              "      filter: drop-shadow(0px 1px 2px rgba(0, 0, 0, 0.3));\n",
              "      fill: #FFFFFF;\n",
              "    }\n",
              "  </style>\n",
              "\n",
              "    <script>\n",
              "      const buttonEl =\n",
              "        document.querySelector('#df-738dada0-87d1-406b-9272-7a796fa35354 button.colab-df-convert');\n",
              "      buttonEl.style.display =\n",
              "        google.colab.kernel.accessAllowed ? 'block' : 'none';\n",
              "\n",
              "      async function convertToInteractive(key) {\n",
              "        const element = document.querySelector('#df-738dada0-87d1-406b-9272-7a796fa35354');\n",
              "        const dataTable =\n",
              "          await google.colab.kernel.invokeFunction('convertToInteractive',\n",
              "                                                    [key], {});\n",
              "        if (!dataTable) return;\n",
              "\n",
              "        const docLinkHtml = 'Like what you see? Visit the ' +\n",
              "          '<a target=\"_blank\" href=https://colab.research.google.com/notebooks/data_table.ipynb>data table notebook</a>'\n",
              "          + ' to learn more about interactive tables.';\n",
              "        element.innerHTML = '';\n",
              "        dataTable['output_type'] = 'display_data';\n",
              "        await google.colab.output.renderOutput(dataTable, element);\n",
              "        const docLink = document.createElement('div');\n",
              "        docLink.innerHTML = docLinkHtml;\n",
              "        element.appendChild(docLink);\n",
              "      }\n",
              "    </script>\n",
              "  </div>\n",
              "\n",
              "\n",
              "<div id=\"df-0d586b85-ec18-41ea-afa7-4791cf908d73\">\n",
              "  <button class=\"colab-df-quickchart\" onclick=\"quickchart('df-0d586b85-ec18-41ea-afa7-4791cf908d73')\"\n",
              "            title=\"Suggest charts\"\n",
              "            style=\"display:none;\">\n",
              "\n",
              "<svg xmlns=\"http://www.w3.org/2000/svg\" height=\"24px\"viewBox=\"0 0 24 24\"\n",
              "     width=\"24px\">\n",
              "    <g>\n",
              "        <path d=\"M19 3H5c-1.1 0-2 .9-2 2v14c0 1.1.9 2 2 2h14c1.1 0 2-.9 2-2V5c0-1.1-.9-2-2-2zM9 17H7v-7h2v7zm4 0h-2V7h2v10zm4 0h-2v-4h2v4z\"/>\n",
              "    </g>\n",
              "</svg>\n",
              "  </button>\n",
              "\n",
              "<style>\n",
              "  .colab-df-quickchart {\n",
              "      --bg-color: #E8F0FE;\n",
              "      --fill-color: #1967D2;\n",
              "      --hover-bg-color: #E2EBFA;\n",
              "      --hover-fill-color: #174EA6;\n",
              "      --disabled-fill-color: #AAA;\n",
              "      --disabled-bg-color: #DDD;\n",
              "  }\n",
              "\n",
              "  [theme=dark] .colab-df-quickchart {\n",
              "      --bg-color: #3B4455;\n",
              "      --fill-color: #D2E3FC;\n",
              "      --hover-bg-color: #434B5C;\n",
              "      --hover-fill-color: #FFFFFF;\n",
              "      --disabled-bg-color: #3B4455;\n",
              "      --disabled-fill-color: #666;\n",
              "  }\n",
              "\n",
              "  .colab-df-quickchart {\n",
              "    background-color: var(--bg-color);\n",
              "    border: none;\n",
              "    border-radius: 50%;\n",
              "    cursor: pointer;\n",
              "    display: none;\n",
              "    fill: var(--fill-color);\n",
              "    height: 32px;\n",
              "    padding: 0;\n",
              "    width: 32px;\n",
              "  }\n",
              "\n",
              "  .colab-df-quickchart:hover {\n",
              "    background-color: var(--hover-bg-color);\n",
              "    box-shadow: 0 1px 2px rgba(60, 64, 67, 0.3), 0 1px 3px 1px rgba(60, 64, 67, 0.15);\n",
              "    fill: var(--button-hover-fill-color);\n",
              "  }\n",
              "\n",
              "  .colab-df-quickchart-complete:disabled,\n",
              "  .colab-df-quickchart-complete:disabled:hover {\n",
              "    background-color: var(--disabled-bg-color);\n",
              "    fill: var(--disabled-fill-color);\n",
              "    box-shadow: none;\n",
              "  }\n",
              "\n",
              "  .colab-df-spinner {\n",
              "    border: 2px solid var(--fill-color);\n",
              "    border-color: transparent;\n",
              "    border-bottom-color: var(--fill-color);\n",
              "    animation:\n",
              "      spin 1s steps(1) infinite;\n",
              "  }\n",
              "\n",
              "  @keyframes spin {\n",
              "    0% {\n",
              "      border-color: transparent;\n",
              "      border-bottom-color: var(--fill-color);\n",
              "      border-left-color: var(--fill-color);\n",
              "    }\n",
              "    20% {\n",
              "      border-color: transparent;\n",
              "      border-left-color: var(--fill-color);\n",
              "      border-top-color: var(--fill-color);\n",
              "    }\n",
              "    30% {\n",
              "      border-color: transparent;\n",
              "      border-left-color: var(--fill-color);\n",
              "      border-top-color: var(--fill-color);\n",
              "      border-right-color: var(--fill-color);\n",
              "    }\n",
              "    40% {\n",
              "      border-color: transparent;\n",
              "      border-right-color: var(--fill-color);\n",
              "      border-top-color: var(--fill-color);\n",
              "    }\n",
              "    60% {\n",
              "      border-color: transparent;\n",
              "      border-right-color: var(--fill-color);\n",
              "    }\n",
              "    80% {\n",
              "      border-color: transparent;\n",
              "      border-right-color: var(--fill-color);\n",
              "      border-bottom-color: var(--fill-color);\n",
              "    }\n",
              "    90% {\n",
              "      border-color: transparent;\n",
              "      border-bottom-color: var(--fill-color);\n",
              "    }\n",
              "  }\n",
              "</style>\n",
              "\n",
              "  <script>\n",
              "    async function quickchart(key) {\n",
              "      const quickchartButtonEl =\n",
              "        document.querySelector('#' + key + ' button');\n",
              "      quickchartButtonEl.disabled = true;  // To prevent multiple clicks.\n",
              "      quickchartButtonEl.classList.add('colab-df-spinner');\n",
              "      try {\n",
              "        const charts = await google.colab.kernel.invokeFunction(\n",
              "            'suggestCharts', [key], {});\n",
              "      } catch (error) {\n",
              "        console.error('Error during call to suggestCharts:', error);\n",
              "      }\n",
              "      quickchartButtonEl.classList.remove('colab-df-spinner');\n",
              "      quickchartButtonEl.classList.add('colab-df-quickchart-complete');\n",
              "    }\n",
              "    (() => {\n",
              "      let quickchartButtonEl =\n",
              "        document.querySelector('#df-0d586b85-ec18-41ea-afa7-4791cf908d73 button');\n",
              "      quickchartButtonEl.style.display =\n",
              "        google.colab.kernel.accessAllowed ? 'block' : 'none';\n",
              "    })();\n",
              "  </script>\n",
              "</div>\n",
              "    </div>\n",
              "  </div>\n"
            ],
            "application/vnd.google.colaboratory.intrinsic+json": {
              "type": "dataframe",
              "variable_name": "df_cleaned",
              "summary": "{\n  \"name\": \"df_cleaned\",\n  \"rows\": 500,\n  \"fields\": [\n    {\n      \"column\": \"initial sentence\",\n      \"properties\": {\n        \"dtype\": \"string\",\n        \"num_unique_values\": 500,\n        \"samples\": [\n          \"\\u041e\\u0447\\u0438\\u0441\\u0442\\u0438\\u0442\\u044c \\u043b\\u0443\\u043a \\u0438 \\u043d\\u0430\\u0440\\u0435\\u0437\\u0430\\u0442\\u044c \\u0435\\u0433\\u043e \\u043c\\u0435\\u043b\\u043a\\u0438\\u043c\\u0438 \\u043a\\u0443\\u0431\\u0438\\u043a\\u0430\\u043c\\u0438.\",\n          \"\\u041a\\u0430\\u0440\\u0442\\u043e\\u0444\\u0435\\u043b\\u044c \\u0438 \\u043b\\u0443\\u043a \\u043e\\u0447\\u0438\\u0441\\u0442\\u0438\\u0442\\u0435, \\u0430 \\u043e\\u043a\\u043e\\u0440\\u043e\\u0447\\u043a\\u0430 \\u0440\\u0430\\u0437\\u043c\\u043e\\u0440\\u043e\\u0437\\u044c\\u0442\\u0435, \\u0435\\u0441\\u043b\\u0438 \\u0432\\u044b \\u043a\\u0443\\u043f\\u0438\\u043b\\u0438 \\u0438\\u0445 \\u0437\\u0430\\u043c\\u043e\\u0440\\u043e\\u0436\\u0435\\u043d\\u043d\\u044b\\u043c\\u0438.\",\n          \"\\u041d\\u0430\\u043c \\u043e\\u0441\\u0442\\u0430\\u0435\\u0442\\u0441\\u044f \\u0442\\u043e\\u043b\\u044c\\u043a\\u043e \\u0434\\u043e\\u0431\\u0430\\u0432\\u0438\\u0442\\u044c \\u0432 \\u043c\\u0430\\u0439\\u043e\\u043d\\u0435\\u0437 \\u043b\\u0438\\u043c\\u043e\\u043d\\u043d\\u044b\\u0439 \\u0441\\u043e\\u043a, \\u0433\\u043e\\u0440\\u0447\\u0438\\u0446\\u0443 \\u0438 \\u0441\\u043e\\u043b\\u044c \\u043f\\u043e \\u0432\\u043a\\u0443\\u0441\\u0443 \\u0438 \\u0435\\u0449\\u0435 \\u0440\\u0430\\u0437 \\u0432\\u0437\\u0431\\u0438\\u0442\\u044c \\u043c\\u0430\\u0441\\u0441\\u0443.\"\n        ],\n        \"semantic_type\": \"\",\n        \"description\": \"\"\n      }\n    },\n    {\n      \"column\": \"true sentence\",\n      \"properties\": {\n        \"dtype\": \"string\",\n        \"num_unique_values\": 477,\n        \"samples\": [\n          \"\\u041a\\u043e\\u0433\\u0434\\u0430 \\u043c\\u043e\\u043b\\u043e\\u043a\\u043e \\u043d\\u0430\\u0447\\u043d\\u0435\\u0442 \\u043a\\u0438\\u043f\\u0435\\u0442\\u044c, \\u0432\\u0430\\u0440\\u0438\\u043c \\u043c\\u0438\\u043d\\u0443\\u0442 \\u0441\\u0435\\u043c\\u044c-\\u0434\\u0435\\u0441\\u044f\\u0442\\u044c, \\u043f\\u0435\\u0440\\u0438\\u043e\\u0434\\u0438\\u0447\\u0435\\u0441\\u043a\\u0438 \\u043d\\u0435 \\u0437\\u0430\\u0431\\u044b\\u0432\\u0430\\u0435\\u043c \\u043f\\u043e\\u043c\\u0435\\u0448\\u0438\\u0432\\u0430\\u0442\\u044c...\",\n          \"\\u041f\\u043e\\u043c\\u0435\\u0441\\u0442\\u0438\\u0442\\u0435 \\u0432 \\u0445\\u043e\\u043b\\u043e\\u0434\\u0438\\u043b\\u044c\\u043d\\u0438\\u043a \\u043d\\u0430 1 \\u0447\\u0430\\u0441 \\u0434\\u043b\\u044f \\u043f\\u0440\\u043e\\u043f\\u0438\\u0442\\u044b\\u0432\\u0430\\u043d\\u0438\\u044f...\",\n          \"\\u0412\\u0437\\u0431\\u0435\\u0439\\u0442\\u0435 \\u0432\\u0441\\u0435 \\u0432\\u0435\\u043d\\u0447\\u0438\\u043a\\u043e\\u043c...\"\n        ],\n        \"semantic_type\": \"\",\n        \"description\": \"\"\n      }\n    },\n    {\n      \"column\": \"generated text\",\n      \"properties\": {\n        \"dtype\": \"string\",\n        \"num_unique_values\": 470,\n        \"samples\": [\n          \"\\u0414\\u043e\\u0431\\u0430\\u0432\\u044c\\u0442\\u0435 \\u043a \\u043d\\u0438\\u043c \\u043b\\u0443\\u043a, \\u043c\\u043e\\u0440\\u043a\\u043e\\u0432\\u044c, \\u043f\\u043e\\u043c\\u0438\\u0434\\u043e\\u0440\\u044b, \\u0442\\u043e\\u043c\\u0430\\u0442\\u043d\\u0443\\u044e \\u043f\\u0430\\u0441\\u0442\\u0443, \\u0441\\u043e\\u043b\\u044c, \\u043f\\u0435\\u0440\\u0435\\u0446, \\u043b\\u0430\\u0432\\u0440\\u043e\\u0432\\u044b\\u0439 \\u043b\\u0438\\u0441\\u0442...\",\n          \"\\u041d\\u0430\\u0440\\u0435\\u0436\\u044c\\u0442\\u0435 \\u043a\\u0430\\u0440\\u0442\\u043e\\u0444\\u0435\\u043b\\u044c \\u043a\\u0443\\u0431\\u0438\\u043a\\u0430\\u043c\\u0438, \\u043b\\u0443\\u043a \\u2013 \\u043f\\u043e\\u043b\\u0443\\u043a\\u043e\\u043b\\u044c\\u0446\\u0430\\u043c\\u0438. \\u0412 \\u0441\\u043a\\u043e\\u0432\\u043e\\u0440\\u043e\\u0434\\u0435 \\u0440\\u0430\\u0437\\u043e\\u0433\\u0440\\u0435\\u0439\\u0442\\u0435 \\u0440\\u0430\\u0441\\u0442\\u0438\\u0442\\u0435\\u043b\\u044c\\u043d\\u043e\\u0435...\",\n          \"\\u0422\\u043e\\u0440\\u0442 \\u00ab. \\u041f\\u0442\\u0438\\u0447\\u044c\\u0435 \\u043c\\u043e\\u043b\\u043e\\u043a\\u043e\\u00bb. \\u0418\\u043d\\u0433\\u0440\\u0435\\u0434\\u0438\\u0435\\u043d\\u0442\\u044b:\\u0414\\u043b\\u044f \\u0442\\u0435\\u0441\\u0442\\u0430:\\u0414\\u043b\\u044f \\u043a\\u0440\\u0435\\u043c\\u0430...\"\n        ],\n        \"semantic_type\": \"\",\n        \"description\": \"\"\n      }\n    }\n  ]\n}"
            }
          },
          "metadata": {},
          "execution_count": 209
        }
      ]
    },
    {
      "cell_type": "code",
      "source": [
        "df_cleaned.to_csv('generated_texts.csv')"
      ],
      "metadata": {
        "id": "9MtGSbRo8K_4"
      },
      "execution_count": 210,
      "outputs": []
    }
  ]
}